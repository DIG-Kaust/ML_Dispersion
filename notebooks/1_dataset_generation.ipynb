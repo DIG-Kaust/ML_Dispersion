{
 "cells": [
  {
   "cell_type": "markdown",
   "id": "e14e1961",
   "metadata": {},
   "source": [
    "# Generation of training dataset"
   ]
  },
  {
   "cell_type": "code",
   "execution_count": 1,
   "id": "078d35df",
   "metadata": {
    "ExecuteTime": {
     "end_time": "2023-04-17T13:41:28.529029Z",
     "start_time": "2023-04-17T13:41:26.904724Z"
    },
    "scrolled": true
   },
   "outputs": [
    {
     "ename": "ModuleNotFoundError",
     "evalue": "No module named 'disba'",
     "output_type": "error",
     "traceback": [
      "\u001B[0;31m---------------------------------------------------------------------------\u001B[0m",
      "\u001B[0;31mModuleNotFoundError\u001B[0m                       Traceback (most recent call last)",
      "Cell \u001B[0;32mIn[1], line 6\u001B[0m\n\u001B[1;32m      4\u001B[0m \u001B[38;5;28;01mimport\u001B[39;00m \u001B[38;5;21;01msegyio\u001B[39;00m\n\u001B[1;32m      5\u001B[0m \u001B[38;5;28;01mfrom\u001B[39;00m \u001B[38;5;21;01mtqdm\u001B[39;00m \u001B[38;5;28;01mimport\u001B[39;00m tqdm\n\u001B[0;32m----> 6\u001B[0m \u001B[38;5;28;01mfrom\u001B[39;00m \u001B[38;5;21;01mutils\u001B[39;00m \u001B[38;5;28;01mimport\u001B[39;00m \u001B[38;5;241m*\u001B[39m\n\u001B[1;32m      7\u001B[0m get_ipython()\u001B[38;5;241m.\u001B[39mrun_line_magic(\u001B[38;5;124m'\u001B[39m\u001B[38;5;124mconfig\u001B[39m\u001B[38;5;124m'\u001B[39m, \u001B[38;5;124m\"\u001B[39m\u001B[38;5;124mInlineBackend.figure_formats =[\u001B[39m\u001B[38;5;124m'\u001B[39m\u001B[38;5;124mpng\u001B[39m\u001B[38;5;124m'\u001B[39m\u001B[38;5;124m]\u001B[39m\u001B[38;5;124m\"\u001B[39m)\n\u001B[1;32m      8\u001B[0m plt\u001B[38;5;241m.\u001B[39mstyle\u001B[38;5;241m.\u001B[39muse(\u001B[38;5;124m'\u001B[39m\u001B[38;5;124mseaborn-ticks\u001B[39m\u001B[38;5;124m'\u001B[39m)\n",
      "File \u001B[0;32m~/Documents/KAUST/ML_Dispersion/notebooks/utils.py:3\u001B[0m\n\u001B[1;32m      1\u001B[0m \u001B[38;5;28;01mfrom\u001B[39;00m \u001B[38;5;21;01mpickletools\u001B[39;00m \u001B[38;5;28;01mimport\u001B[39;00m float8\n\u001B[1;32m      2\u001B[0m \u001B[38;5;28;01mfrom\u001B[39;00m \u001B[38;5;21;01mobspy\u001B[39;00m\u001B[38;5;21;01m.\u001B[39;00m\u001B[38;5;21;01mcore\u001B[39;00m \u001B[38;5;28;01mimport\u001B[39;00m \u001B[38;5;241m*\u001B[39m\n\u001B[0;32m----> 3\u001B[0m \u001B[38;5;28;01mfrom\u001B[39;00m \u001B[38;5;21;01mdisba\u001B[39;00m \u001B[38;5;28;01mimport\u001B[39;00m PhaseDispersion\n\u001B[1;32m      4\u001B[0m \u001B[38;5;28;01mfrom\u001B[39;00m \u001B[38;5;21;01mscipy\u001B[39;00m\u001B[38;5;21;01m.\u001B[39;00m\u001B[38;5;21;01msignal\u001B[39;00m \u001B[38;5;28;01mimport\u001B[39;00m filtfilt\n\u001B[1;32m      5\u001B[0m \u001B[38;5;28;01mimport\u001B[39;00m \u001B[38;5;21;01mos\u001B[39;00m\n",
      "\u001B[0;31mModuleNotFoundError\u001B[0m: No module named 'disba'"
     ]
    }
   ],
   "source": [
    "import os\n",
    "import matplotlib.pyplot as plt\n",
    "import segyio\n",
    "from tqdm import tqdm\n",
    "from utils import *\n",
    "%config InlineBackend.figure_formats =['png']\n",
    "plt.style.use('seaborn-ticks')\n",
    "\n",
    "# Set the destination folder for the generated data\n",
    "\n",
    "path = '../dataset'\n",
    "obj = 'test'  # Change from training to testing to create more velocity models for testing"
   ]
  },
  {
   "cell_type": "code",
   "execution_count": 15,
   "id": "3d0c1842",
   "metadata": {
    "scrolled": true
   },
   "outputs": [],
   "source": [
    "if os.path.exists(path + \"/{}\".format(obj)):\n",
    "    os.system(\"rm -rf \" + path + \"/{}\".format(obj))\n",
    "os.mkdir(path + \"/{}\".format(obj))\n",
    "os.mkdir(path + \"/{}/data\".format(obj))\n",
    "os.mkdir(path + \"/{}/data_su\".format(obj))\n",
    "os.mkdir(path + \"/{}/label\".format(obj))\n",
    "os.mkdir(path + \"/{}/model\".format(obj))\n",
    "os.mkdir(path + \"/{}/snaps\".format(obj))"
   ]
  },
  {
   "cell_type": "markdown",
   "id": "f7c253f3",
   "metadata": {},
   "source": [
    "## Creation of models"
   ]
  },
  {
   "cell_type": "code",
   "execution_count": 16,
   "id": "9f28fe4f",
   "metadata": {},
   "outputs": [
    {
     "name": "stderr",
     "output_type": "stream",
     "text": [
      "100%|██████████| 100/100 [00:07<00:00, 13.89it/s]\n"
     ]
    }
   ],
   "source": [
    "mods = []\n",
    "N = 100  # Set the number of models to generate\n",
    "\n",
    "for n in tqdm(range(N)):\n",
    "    mods.append(\n",
    "        VelModel(\n",
    "            50,  # Maximum depth to reach\n",
    "            4,  # Number of layers in the model\n",
    "            200,  # Min value of Vs used for the model\n",
    "            1000,  # Max value of Vs used for the model\n",
    "            random_range=80,  # Allowed variation range for Vs\n",
    "            ranvar=True,  # Random layers boolean\n",
    "            first_mode=False,  # Generate dispersion curves for first and fundamental modes\n",
    "            minran1=3,  # Min allowed thickness for first layer\n",
    "            maxran1=15,  # Max allowed thickness for first layer\n",
    "            maxranf=20,  # Max allowed thickness for following layers\n",
    "            sizex=50,  # Size of the model\n",
    "            counter=n,  # Counter for the models\n",
    "            maxfreq=60,  # Maximum frequency to model dispersion curves\n",
    "            save_data=True,  # Save data to given folder\n",
    "            path=f\"{path}/{obj}\",  #Path of the destination\n",
    "            dx=0.5,  # FD modeling parameter, might require changes\n",
    "        )\n",
    "    )\n"
   ]
  },
  {
   "cell_type": "markdown",
   "id": "8b3d1397",
   "metadata": {},
   "source": [
    "Update the values for dx in the models already created"
   ]
  },
  {
   "cell_type": "code",
   "execution_count": 18,
   "id": "be0c8db1",
   "metadata": {},
   "outputs": [
    {
     "name": "stdout",
     "output_type": "stream",
     "text": [
      "No need to change the parameters\n"
     ]
    }
   ],
   "source": [
    "need_change = checkdx(mods)  # Checks if the models generated are stable for fdelmodc\n",
    "\n",
    "if need_change:\n",
    "    dx = 0.51  # Change this value accordingly to the previous result, if no feasible value, change Vs ranges\n",
    "    for mod in mods:\n",
    "        setattr(mod, 'dx', dx)\n",
    "        mod.get_message()\n",
    "    print('The new value for dx is {}'.format(dx))\n",
    "\n",
    "    checkdx(mods)\n",
    "\n",
    "else:\n",
    "    print('No need to change the parameters')\n"
   ]
  },
  {
   "cell_type": "markdown",
   "id": "01fbe9ff",
   "metadata": {},
   "source": [
    "## Creation of wavelet"
   ]
  },
  {
   "cell_type": "code",
   "execution_count": 19,
   "id": "e74472e8",
   "metadata": {
    "scrolled": true
   },
   "outputs": [
    {
     "name": "stderr",
     "output_type": "stream",
     "text": [
      "    makewave: Flat spectrum wavelet\n",
      "    makewave: ---------------------\n",
      "    makewave: Number of time samples .. = 12300\n",
      "    makewave: time step ............... = 0.000100 (s)\n",
      "    makewave: maximum frequency ....... = 60.000000 Hz\n",
      "    makewave: left cut-off frequency .. = 10.000000 Hz\n",
      "    makewave: right cut-off frequency . = 50.000000 Hz\n",
      "    makewave: minimum frequency ....... = 5.000000 Hz\n",
      "    makewave: time shift .............. = 0.230000 (s)\n"
     ]
    },
    {
     "name": "stdout",
     "output_type": "stream",
     "text": [
      "The command executed successfully!\n"
     ]
    },
    {
     "data": {
      "image/png": "[encoded data removed]",
      "text/plain": [
       "<Figure size 1224x216 with 1 Axes>"
      ]
     },
     "metadata": {},
     "output_type": "display_data"
    }
   ],
   "source": [
    "# Creating wavelet\n",
    "dt = 0.0001  # Stepsize in time direction\n",
    "t0 = 0.23  # Position of peak wavelet\n",
    "nt = (1 + t0) / dt\n",
    "\n",
    "w = \"fw\"  # Type of wavelet\n",
    "fmin = 5\n",
    "flef = 10\n",
    "frig = 50\n",
    "fmax = 60\n",
    "\n",
    "wavelet = \"makewave file_out=wavelet.su dt={} nt={} t0={} w={} fmin={} flef={} frig={} fmax={} verbose=1\".format(\n",
    "    str(dt), str(nt), str(t0), w, str(fmin), str(flef), str(frig), str(fmax)\n",
    ")\n",
    "\n",
    "running = os.system(\n",
    "    \"cd {pathstr}/{obj}/ && {wvstr}\".format(pathstr=path, obj=obj, wvstr=wavelet)\n",
    ")\n",
    "\n",
    "if running == 0:\n",
    "    print(\"The command executed successfully!\")\n",
    "\n",
    "waveimage = segyio.su.open(path + \"/{}/\".format(obj) + \"wavelet.su\", endian=\"little\")\n",
    "plt.figure(figsize=(17, 3))\n",
    "plt.plot(waveimage.trace[0])\n",
    "waveimage.close()\n"
   ]
  },
  {
   "cell_type": "code",
   "execution_count": 21,
   "id": "e8a8090a",
   "metadata": {
    "scrolled": true
   },
   "outputs": [
    {
     "name": "stderr",
     "output_type": "stream",
     "text": [
      "100%|██████████| 100/100 [00:01<00:00, 52.54it/s]"
     ]
    },
    {
     "name": "stdout",
     "output_type": "stream",
     "text": [
      "CPU times: user 68.8 ms, sys: 846 ms, total: 915 ms\n",
      "Wall time: 1.91 s\n"
     ]
    },
    {
     "name": "stderr",
     "output_type": "stream",
     "text": [
      "\n"
     ]
    }
   ],
   "source": [
    "%%time\n",
    "\n",
    "# Creating model profiles\n",
    "for nm in tqdm(range(N)):\n",
    "    os.system('cd ' + path + '/{}/ && '.format(obj) + mods[nm].message)"
   ]
  },
  {
   "cell_type": "markdown",
   "id": "9139c9c7",
   "metadata": {
    "collapsed": false
   },
   "source": [
    "## Finite difference modeling"
   ]
  },
  {
   "cell_type": "code",
   "execution_count": 22,
   "id": "cab716ec",
   "metadata": {
    "scrolled": true
   },
   "outputs": [
    {
     "name": "stderr",
     "output_type": "stream",
     "text": [
      "100%|██████████| 100/100 [03:11<00:00,  1.92s/it]\n"
     ]
    }
   ],
   "source": [
    "file_src = 'wavelet.su'\n",
    "\n",
    "xrcv1 = 15  # Initial offset\n",
    "xrcv2 = 39  # Final offset\n",
    "dxrcv = 1  # Receiver offset\n",
    "dtrcv = 0.0005  # Receiver time resolution\n",
    "xsrc = 0  # Offset of the source\n",
    "\n",
    "for m in tqdm(range(N)):\n",
    "    file_cp = str(m) + '_cp.su'\n",
    "    file_cs = str(m) + '_cs.su'\n",
    "    file_den = str(m) + '_ro.su'\n",
    "    file_rcv = str(m) + '.su'\n",
    "    file_log = str(m) + '.log'\n",
    "    file_snap = None  # str(m) + 'snap.su'\n",
    "\n",
    "    modeling = 'fdelmodc file_cp={} file_cs={} file_den={} ischeme=3 file_src={} file_rcv={} file_snap={}' \\\n",
    "               ' xrcv1={} xrcv2={} dxrcv={} zrcv1=0 zrcv2=0 dtrcv={} rec_type_vx=1 rec_type_vz=1 rec_int_vx=1 rec_int_vz=0 xsrc={}' \\\n",
    "               ' zsrc=0 nshot=1 src_type=7 src_orient=1 top=1 left=4 right=4 bottom=4 ntaper=100 verbose=4 > {} 2>&1'.format(\n",
    "        file_cp, file_cs, file_den, file_src, file_rcv, file_snap, xrcv1, xrcv2, dxrcv, dtrcv, xsrc, file_log)\n",
    "\n",
    "    os.system('cd ' + path + '/{}/ && '.format(obj) +\n",
    "              'export OMP_NUM_THREADS=16 && ' + modeling)  #+ snap_string)"
   ]
  },
  {
   "cell_type": "markdown",
   "id": "1a4748dc",
   "metadata": {},
   "source": [
    "#### Organizing files"
   ]
  },
  {
   "cell_type": "code",
   "execution_count": 23,
   "id": "a67b7337",
   "metadata": {},
   "outputs": [
    {
     "name": "stderr",
     "output_type": "stream",
     "text": [
      "mv: cannot stat '*snap*.su': No such file or directory\n"
     ]
    },
    {
     "data": {
      "text/plain": [
       "0"
      ]
     },
     "execution_count": 23,
     "metadata": {},
     "output_type": "execute_result"
    }
   ],
   "source": [
    "os.system('cd ' + path + f'/{obj} && ' + 'mv *_rvz.su data_su/')\n",
    "os.system('cd ' + path + f'/{obj} && ' + 'mv *snap*.su snaps/')\n",
    "os.system('cd ' + path + f'/{obj} && ' + 'rm -rf  *.log && rm -rf  *.txt && rm -rf  *.su')"
   ]
  }
 ],
 "metadata": {
  "interpreter": {
   "hash": "07f4825997e528f4a27461764728d2daadedf8154ed3ac2b3fd348c4ee1e973b"
  },
  "kernelspec": {
   "display_name": "Python 3 (ipykernel)",
   "language": "python",
   "name": "python3"
  },
  "language_info": {
   "codemirror_mode": {
    "name": "ipython",
    "version": 3
   },
   "file_extension": ".py",
   "mimetype": "text/x-python",
   "name": "python",
   "nbconvert_exporter": "python",
   "pygments_lexer": "ipython3",
   "version": "3.9.10"
  }
 },
 "nbformat": 4,
 "nbformat_minor": 5
}
